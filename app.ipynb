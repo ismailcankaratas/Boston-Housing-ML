{
 "cells": [
  {
   "cell_type": "markdown",
   "metadata": {},
   "source": [
    "# Analiz"
   ]
  },
  {
   "cell_type": "code",
   "execution_count": 1,
   "metadata": {},
   "outputs": [],
   "source": [
    "import pandas as pd\n",
    "import numpy as np"
   ]
  },
  {
   "cell_type": "code",
   "execution_count": 2,
   "metadata": {},
   "outputs": [
    {
     "data": {
      "text/html": [
       "<div>\n",
       "<style scoped>\n",
       "    .dataframe tbody tr th:only-of-type {\n",
       "        vertical-align: middle;\n",
       "    }\n",
       "\n",
       "    .dataframe tbody tr th {\n",
       "        vertical-align: top;\n",
       "    }\n",
       "\n",
       "    .dataframe thead th {\n",
       "        text-align: right;\n",
       "    }\n",
       "</style>\n",
       "<table border=\"1\" class=\"dataframe\">\n",
       "  <thead>\n",
       "    <tr style=\"text-align: right;\">\n",
       "      <th></th>\n",
       "      <th>id</th>\n",
       "      <th>date</th>\n",
       "      <th>price</th>\n",
       "      <th>bedrooms</th>\n",
       "      <th>bathrooms</th>\n",
       "      <th>sqft_living</th>\n",
       "      <th>sqft_lot</th>\n",
       "      <th>floors</th>\n",
       "      <th>waterfront</th>\n",
       "      <th>view</th>\n",
       "      <th>...</th>\n",
       "      <th>grade</th>\n",
       "      <th>sqft_above</th>\n",
       "      <th>sqft_basement</th>\n",
       "      <th>yr_built</th>\n",
       "      <th>yr_renovated</th>\n",
       "      <th>zipcode</th>\n",
       "      <th>lat</th>\n",
       "      <th>long</th>\n",
       "      <th>sqft_living15</th>\n",
       "      <th>sqft_lot15</th>\n",
       "    </tr>\n",
       "  </thead>\n",
       "  <tbody>\n",
       "    <tr>\n",
       "      <th>0</th>\n",
       "      <td>7229300521</td>\n",
       "      <td>20141013T000000</td>\n",
       "      <td>231300.0</td>\n",
       "      <td>2</td>\n",
       "      <td>1.00</td>\n",
       "      <td>1180</td>\n",
       "      <td>5650</td>\n",
       "      <td>1.0</td>\n",
       "      <td>0</td>\n",
       "      <td>0</td>\n",
       "      <td>...</td>\n",
       "      <td>7</td>\n",
       "      <td>1180</td>\n",
       "      <td>0</td>\n",
       "      <td>1955</td>\n",
       "      <td>0</td>\n",
       "      <td>98178</td>\n",
       "      <td>47.5112</td>\n",
       "      <td>-122.257</td>\n",
       "      <td>1340</td>\n",
       "      <td>5650</td>\n",
       "    </tr>\n",
       "    <tr>\n",
       "      <th>1</th>\n",
       "      <td>6414100192</td>\n",
       "      <td>20141209T000000</td>\n",
       "      <td>538000.0</td>\n",
       "      <td>3</td>\n",
       "      <td>2.25</td>\n",
       "      <td>2570</td>\n",
       "      <td>7242</td>\n",
       "      <td>2.0</td>\n",
       "      <td>0</td>\n",
       "      <td>0</td>\n",
       "      <td>...</td>\n",
       "      <td>7</td>\n",
       "      <td>2170</td>\n",
       "      <td>400</td>\n",
       "      <td>1951</td>\n",
       "      <td>1991</td>\n",
       "      <td>98125</td>\n",
       "      <td>47.7210</td>\n",
       "      <td>-122.319</td>\n",
       "      <td>1690</td>\n",
       "      <td>7639</td>\n",
       "    </tr>\n",
       "    <tr>\n",
       "      <th>2</th>\n",
       "      <td>5631500400</td>\n",
       "      <td>20150225T000000</td>\n",
       "      <td>180000.0</td>\n",
       "      <td>2</td>\n",
       "      <td>1.00</td>\n",
       "      <td>770</td>\n",
       "      <td>10000</td>\n",
       "      <td>1.0</td>\n",
       "      <td>0</td>\n",
       "      <td>0</td>\n",
       "      <td>...</td>\n",
       "      <td>6</td>\n",
       "      <td>770</td>\n",
       "      <td>0</td>\n",
       "      <td>1933</td>\n",
       "      <td>0</td>\n",
       "      <td>98028</td>\n",
       "      <td>47.7379</td>\n",
       "      <td>-122.233</td>\n",
       "      <td>2720</td>\n",
       "      <td>8062</td>\n",
       "    </tr>\n",
       "    <tr>\n",
       "      <th>3</th>\n",
       "      <td>2487200875</td>\n",
       "      <td>20141209T000000</td>\n",
       "      <td>604000.0</td>\n",
       "      <td>4</td>\n",
       "      <td>3.00</td>\n",
       "      <td>1960</td>\n",
       "      <td>5000</td>\n",
       "      <td>1.0</td>\n",
       "      <td>0</td>\n",
       "      <td>0</td>\n",
       "      <td>...</td>\n",
       "      <td>7</td>\n",
       "      <td>1050</td>\n",
       "      <td>910</td>\n",
       "      <td>1965</td>\n",
       "      <td>0</td>\n",
       "      <td>98136</td>\n",
       "      <td>47.5208</td>\n",
       "      <td>-122.393</td>\n",
       "      <td>1360</td>\n",
       "      <td>5000</td>\n",
       "    </tr>\n",
       "    <tr>\n",
       "      <th>4</th>\n",
       "      <td>1954400510</td>\n",
       "      <td>20150218T000000</td>\n",
       "      <td>510000.0</td>\n",
       "      <td>3</td>\n",
       "      <td>2.00</td>\n",
       "      <td>1680</td>\n",
       "      <td>8080</td>\n",
       "      <td>1.0</td>\n",
       "      <td>0</td>\n",
       "      <td>0</td>\n",
       "      <td>...</td>\n",
       "      <td>8</td>\n",
       "      <td>1680</td>\n",
       "      <td>0</td>\n",
       "      <td>1987</td>\n",
       "      <td>0</td>\n",
       "      <td>98074</td>\n",
       "      <td>47.6168</td>\n",
       "      <td>-122.045</td>\n",
       "      <td>1800</td>\n",
       "      <td>7503</td>\n",
       "    </tr>\n",
       "    <tr>\n",
       "      <th>...</th>\n",
       "      <td>...</td>\n",
       "      <td>...</td>\n",
       "      <td>...</td>\n",
       "      <td>...</td>\n",
       "      <td>...</td>\n",
       "      <td>...</td>\n",
       "      <td>...</td>\n",
       "      <td>...</td>\n",
       "      <td>...</td>\n",
       "      <td>...</td>\n",
       "      <td>...</td>\n",
       "      <td>...</td>\n",
       "      <td>...</td>\n",
       "      <td>...</td>\n",
       "      <td>...</td>\n",
       "      <td>...</td>\n",
       "      <td>...</td>\n",
       "      <td>...</td>\n",
       "      <td>...</td>\n",
       "      <td>...</td>\n",
       "      <td>...</td>\n",
       "    </tr>\n",
       "    <tr>\n",
       "      <th>21608</th>\n",
       "      <td>263000018</td>\n",
       "      <td>20140521T000000</td>\n",
       "      <td>360000.0</td>\n",
       "      <td>3</td>\n",
       "      <td>2.50</td>\n",
       "      <td>1530</td>\n",
       "      <td>1131</td>\n",
       "      <td>3.0</td>\n",
       "      <td>0</td>\n",
       "      <td>0</td>\n",
       "      <td>...</td>\n",
       "      <td>8</td>\n",
       "      <td>1530</td>\n",
       "      <td>0</td>\n",
       "      <td>2009</td>\n",
       "      <td>0</td>\n",
       "      <td>98103</td>\n",
       "      <td>47.6993</td>\n",
       "      <td>-122.346</td>\n",
       "      <td>1530</td>\n",
       "      <td>1509</td>\n",
       "    </tr>\n",
       "    <tr>\n",
       "      <th>21609</th>\n",
       "      <td>6600060120</td>\n",
       "      <td>20150223T000000</td>\n",
       "      <td>400000.0</td>\n",
       "      <td>4</td>\n",
       "      <td>2.50</td>\n",
       "      <td>2310</td>\n",
       "      <td>5813</td>\n",
       "      <td>2.0</td>\n",
       "      <td>0</td>\n",
       "      <td>0</td>\n",
       "      <td>...</td>\n",
       "      <td>8</td>\n",
       "      <td>2310</td>\n",
       "      <td>0</td>\n",
       "      <td>2014</td>\n",
       "      <td>0</td>\n",
       "      <td>98146</td>\n",
       "      <td>47.5107</td>\n",
       "      <td>-122.362</td>\n",
       "      <td>1830</td>\n",
       "      <td>7200</td>\n",
       "    </tr>\n",
       "    <tr>\n",
       "      <th>21610</th>\n",
       "      <td>1523300141</td>\n",
       "      <td>20140623T000000</td>\n",
       "      <td>402101.0</td>\n",
       "      <td>2</td>\n",
       "      <td>0.75</td>\n",
       "      <td>1020</td>\n",
       "      <td>1350</td>\n",
       "      <td>2.0</td>\n",
       "      <td>0</td>\n",
       "      <td>0</td>\n",
       "      <td>...</td>\n",
       "      <td>7</td>\n",
       "      <td>1020</td>\n",
       "      <td>0</td>\n",
       "      <td>2009</td>\n",
       "      <td>0</td>\n",
       "      <td>98144</td>\n",
       "      <td>47.5944</td>\n",
       "      <td>-122.299</td>\n",
       "      <td>1020</td>\n",
       "      <td>2007</td>\n",
       "    </tr>\n",
       "    <tr>\n",
       "      <th>21611</th>\n",
       "      <td>291310100</td>\n",
       "      <td>20150116T000000</td>\n",
       "      <td>400000.0</td>\n",
       "      <td>3</td>\n",
       "      <td>2.50</td>\n",
       "      <td>1600</td>\n",
       "      <td>2388</td>\n",
       "      <td>2.0</td>\n",
       "      <td>0</td>\n",
       "      <td>0</td>\n",
       "      <td>...</td>\n",
       "      <td>8</td>\n",
       "      <td>1600</td>\n",
       "      <td>0</td>\n",
       "      <td>2004</td>\n",
       "      <td>0</td>\n",
       "      <td>98027</td>\n",
       "      <td>47.5345</td>\n",
       "      <td>-122.069</td>\n",
       "      <td>1410</td>\n",
       "      <td>1287</td>\n",
       "    </tr>\n",
       "    <tr>\n",
       "      <th>21612</th>\n",
       "      <td>1523300157</td>\n",
       "      <td>20141015T000000</td>\n",
       "      <td>325000.0</td>\n",
       "      <td>2</td>\n",
       "      <td>0.75</td>\n",
       "      <td>1020</td>\n",
       "      <td>1076</td>\n",
       "      <td>2.0</td>\n",
       "      <td>0</td>\n",
       "      <td>0</td>\n",
       "      <td>...</td>\n",
       "      <td>7</td>\n",
       "      <td>1020</td>\n",
       "      <td>0</td>\n",
       "      <td>2008</td>\n",
       "      <td>0</td>\n",
       "      <td>98144</td>\n",
       "      <td>47.5941</td>\n",
       "      <td>-122.299</td>\n",
       "      <td>1020</td>\n",
       "      <td>1357</td>\n",
       "    </tr>\n",
       "  </tbody>\n",
       "</table>\n",
       "<p>21613 rows × 21 columns</p>\n",
       "</div>"
      ],
      "text/plain": [
       "               id             date     price  bedrooms  bathrooms  \\\n",
       "0      7229300521  20141013T000000  231300.0         2       1.00   \n",
       "1      6414100192  20141209T000000  538000.0         3       2.25   \n",
       "2      5631500400  20150225T000000  180000.0         2       1.00   \n",
       "3      2487200875  20141209T000000  604000.0         4       3.00   \n",
       "4      1954400510  20150218T000000  510000.0         3       2.00   \n",
       "...           ...              ...       ...       ...        ...   \n",
       "21608   263000018  20140521T000000  360000.0         3       2.50   \n",
       "21609  6600060120  20150223T000000  400000.0         4       2.50   \n",
       "21610  1523300141  20140623T000000  402101.0         2       0.75   \n",
       "21611   291310100  20150116T000000  400000.0         3       2.50   \n",
       "21612  1523300157  20141015T000000  325000.0         2       0.75   \n",
       "\n",
       "       sqft_living  sqft_lot  floors  waterfront  view  ...  grade  \\\n",
       "0             1180      5650     1.0           0     0  ...      7   \n",
       "1             2570      7242     2.0           0     0  ...      7   \n",
       "2              770     10000     1.0           0     0  ...      6   \n",
       "3             1960      5000     1.0           0     0  ...      7   \n",
       "4             1680      8080     1.0           0     0  ...      8   \n",
       "...            ...       ...     ...         ...   ...  ...    ...   \n",
       "21608         1530      1131     3.0           0     0  ...      8   \n",
       "21609         2310      5813     2.0           0     0  ...      8   \n",
       "21610         1020      1350     2.0           0     0  ...      7   \n",
       "21611         1600      2388     2.0           0     0  ...      8   \n",
       "21612         1020      1076     2.0           0     0  ...      7   \n",
       "\n",
       "       sqft_above  sqft_basement  yr_built  yr_renovated  zipcode      lat  \\\n",
       "0            1180              0      1955             0    98178  47.5112   \n",
       "1            2170            400      1951          1991    98125  47.7210   \n",
       "2             770              0      1933             0    98028  47.7379   \n",
       "3            1050            910      1965             0    98136  47.5208   \n",
       "4            1680              0      1987             0    98074  47.6168   \n",
       "...           ...            ...       ...           ...      ...      ...   \n",
       "21608        1530              0      2009             0    98103  47.6993   \n",
       "21609        2310              0      2014             0    98146  47.5107   \n",
       "21610        1020              0      2009             0    98144  47.5944   \n",
       "21611        1600              0      2004             0    98027  47.5345   \n",
       "21612        1020              0      2008             0    98144  47.5941   \n",
       "\n",
       "          long  sqft_living15  sqft_lot15  \n",
       "0     -122.257           1340        5650  \n",
       "1     -122.319           1690        7639  \n",
       "2     -122.233           2720        8062  \n",
       "3     -122.393           1360        5000  \n",
       "4     -122.045           1800        7503  \n",
       "...        ...            ...         ...  \n",
       "21608 -122.346           1530        1509  \n",
       "21609 -122.362           1830        7200  \n",
       "21610 -122.299           1020        2007  \n",
       "21611 -122.069           1410        1287  \n",
       "21612 -122.299           1020        1357  \n",
       "\n",
       "[21613 rows x 21 columns]"
      ]
     },
     "execution_count": 2,
     "metadata": {},
     "output_type": "execute_result"
    }
   ],
   "source": [
    "data = pd.read_csv(\"Housing.csv\")\n",
    "data"
   ]
  },
  {
   "cell_type": "markdown",
   "metadata": {},
   "source": [
    "Veri kümesi 21613 satır ve 21 sütun içermektedir. Her satır, bir ev satışına ilişkin bilgileri içerir. Amacımız, diğer sütunlardaki değerleri kullanarak \"price\" sütunundaki değeri tahmin etmektir. Bu sayede, evin özelliklerine dayanarak yeni satışların fiyatlarını tahmin edebiliriz.\n",
    "\n",
    "Veri kümesinde yer alan sütunlar şunlardır:"
   ]
  },
  {
   "cell_type": "code",
   "execution_count": null,
   "metadata": {},
   "outputs": [],
   "source": [
    "# Veri kümesi hakkında bilgi\n",
    "data.info()"
   ]
  },
  {
   "cell_type": "code",
   "execution_count": null,
   "metadata": {},
   "outputs": [],
   "source": [
    "data.describe()"
   ]
  },
  {
   "cell_type": "code",
   "execution_count": null,
   "metadata": {},
   "outputs": [],
   "source": [
    "# Eksik değerleri kontrol\n",
    "data.isnull().sum()"
   ]
  },
  {
   "cell_type": "markdown",
   "metadata": {},
   "source": [
    "Verilere kontrol ettiğimizde boş değerimiz bulunmamaktadır. Bu yüzden eksik verileri tamamlama adımını atlıyoruz."
   ]
  },
  {
   "cell_type": "markdown",
   "metadata": {},
   "source": [
    "Veri dağılımını inceleyelim"
   ]
  },
  {
   "cell_type": "code",
   "execution_count": null,
   "metadata": {},
   "outputs": [],
   "source": [
    "import matplotlib.pyplot as plt\n",
    "# Sayısal değişkenlerin dağılımını görselleştirme\n",
    "data.hist(bins=20, figsize=(15, 10))\n",
    "plt.show()"
   ]
  },
  {
   "cell_type": "markdown",
   "metadata": {},
   "source": [
    "Price (fiyat) sütununun diğer sütunlar ile arasında ki ilişkiye bakalım."
   ]
  },
  {
   "cell_type": "code",
   "execution_count": null,
   "metadata": {},
   "outputs": [],
   "source": [
    "import seaborn as sns\n",
    "\n",
    "# Korelasyon matrisini hesaplama\n",
    "heat_data = data.drop([\"date\"], axis=1).corr()\n",
    "\n",
    "# 'price' sütununun diğer sütunlarla olan korelasyonunu alma\n",
    "price_corr = heat_data[['price']].drop(['id', 'price'])  # Sadece 'price' sütununu al ve 'price' sütununu çıkar\n",
    "\n",
    "# Heatmap oluşturma\n",
    "plt.figure(figsize=(12, 8))  # Grafik boyutunu ayarlama\n",
    "sns.heatmap(price_corr, cmap='YlGnBu', annot=True, fmt=\".2f\", linewidths=.5)\n",
    "\n",
    "# Grafik başlığı ve etiketler\n",
    "plt.title('Price Sütununun Diğer Özelliklerle Korelasyonu')\n",
    "plt.xlabel('Özellikler')\n",
    "plt.ylabel('Korelasyon')\n",
    "plt.show()"
   ]
  },
  {
   "cell_type": "markdown",
   "metadata": {},
   "source": [
    "sqft_living: Yaşam alanı büyüklüğü metrekare cinsinden\n",
    "\n",
    "grade: Genel not derecesi (1 ila 13) kategorik değişken yap iyi orta kötü\n",
    "\n",
    "sqft_above: Zemin seviyesinden yüksek yaşam alanı metrekare cinsinden\n",
    "\n",
    "sqft_living15: En yakın 15 mülkün yaşam alanı büyüklüğü metrekare cinsinden\n",
    "\n",
    "bathrooms: Banyo sayısı"
   ]
  },
  {
   "cell_type": "markdown",
   "metadata": {},
   "source": [
    "Price (fiyat) değerinin diğer değerler ile arasında ki ilişkiye bakıyoruz. \n",
    "\n",
    "sqft_living, grade, sqft_above, sqft_living15, bathrooms sütunları price sütunu ile arasında doğrusallık olduğunu gözlemliyoruz."
   ]
  },
  {
   "cell_type": "code",
   "execution_count": null,
   "metadata": {},
   "outputs": [],
   "source": [
    "import folium\n",
    "\n",
    "f = folium.Figure(width=500, height=500)\n",
    "map = folium.Map(location=[data.lat.mean(), data.long.mean()], zoom_start=10).add_to(f)\n",
    "folium.Marker(location=[data.lat.mean(), data.long.mean()], popup='Merkez Noktamız').add_to(map)\n",
    "\n",
    "for i in range(10):\n",
    "    sample_data = data.sample()\n",
    "    folium.Marker(location=[sample_data.lat, sample_data.long], popup=f'Ev {i+1}').add_to(map)\n",
    "\n",
    "map"
   ]
  },
  {
   "cell_type": "markdown",
   "metadata": {},
   "source": [
    "# Ön İşleme"
   ]
  },
  {
   "cell_type": "code",
   "execution_count": null,
   "metadata": {},
   "outputs": [],
   "source": [
    "data = data.drop([\"id\"], axis=1)"
   ]
  },
  {
   "cell_type": "code",
   "execution_count": null,
   "metadata": {},
   "outputs": [],
   "source": [
    "# Tarih sütununu yıl ve ay olarak ayır\n",
    "data['date'] = pd.to_datetime(data['date'], format='%Y%m%dT%H%M%S')\n",
    "data['year'] = data['date'].dt.year\n",
    "data['month'] = data['date'].dt.month\n",
    "data.drop('date', axis=1, inplace=True)"
   ]
  },
  {
   "cell_type": "markdown",
   "metadata": {},
   "source": [
    "Tarih sütununu formatladıktan sonra yıl ve ay değerlerini ayrı sütun olarak ayırıyoruz."
   ]
  },
  {
   "cell_type": "code",
   "execution_count": null,
   "metadata": {},
   "outputs": [],
   "source": [
    "grade_data = data[\"grade\"].value_counts()"
   ]
  },
  {
   "cell_type": "markdown",
   "metadata": {},
   "source": [
    "Grade sütunu değer dağımlarına bakıyoruz."
   ]
  },
  {
   "cell_type": "code",
   "execution_count": null,
   "metadata": {},
   "outputs": [],
   "source": [
    "# Verileri x ve y eksenlerine ayırın\n",
    "grades = grade_data.index\n",
    "counts = grade_data.values\n",
    "\n",
    "# Bar plot oluştur\n",
    "plt.figure(figsize=(10, 6))\n",
    "plt.bar(grades, counts, color='blue')\n",
    "\n",
    "# Grafiği düzenle\n",
    "plt.title('Bar Plot of Grades')\n",
    "plt.xlabel('Grade')\n",
    "plt.ylabel('Count')\n",
    "plt.xticks(grades)  # X eksenindeki değerleri doğru şekilde etiketle\n",
    "plt.grid(axis='y')\n",
    "\n",
    "# Grafiği göster\n",
    "plt.show()"
   ]
  },
  {
   "cell_type": "markdown",
   "metadata": {},
   "source": [
    "Grade sütunu dağılımlara baktığımızda bazı değerlerin çok yüksek bazı değerlerin az olması sebebiyle bu değerleri kategorik veriye dönüştürmek model performansını arttıracaktır."
   ]
  },
  {
   "cell_type": "markdown",
   "metadata": {},
   "source": [
    "Kötü, Orta, İyi olarak 3 'e bölüyoruz."
   ]
  },
  {
   "cell_type": "code",
   "execution_count": null,
   "metadata": {},
   "outputs": [],
   "source": [
    "def categorize(value):\n",
    "    if value < 7:\n",
    "        return \"kötü\"\n",
    "    elif 7 <= value <= 9:\n",
    "        return \"orta\"\n",
    "    else:\n",
    "        return \"iyi\"\n",
    "\n",
    "categorized_data = data[\"grade\"].apply(categorize)\n",
    "data[\"grade\"] = categorized_data"
   ]
  },
  {
   "cell_type": "markdown",
   "metadata": {},
   "source": [
    "Böldüğümüz verileri modele verebilmek için one-hot uyguluyoruz."
   ]
  },
  {
   "cell_type": "code",
   "execution_count": null,
   "metadata": {},
   "outputs": [],
   "source": [
    "from sklearn import preprocessing\n",
    "enc = preprocessing.OneHotEncoder()\n",
    "enc.fit(data[[\"grade\"]])\n",
    "enc.categories_"
   ]
  },
  {
   "cell_type": "code",
   "execution_count": null,
   "metadata": {},
   "outputs": [],
   "source": [
    "one_hot = enc.transform(data[[\"grade\"]]).toarray()"
   ]
  },
  {
   "cell_type": "code",
   "execution_count": null,
   "metadata": {},
   "outputs": [],
   "source": [
    "encoded_cols = list(enc.get_feature_names_out(['grade']))\n",
    "data[encoded_cols] = one_hot\n",
    "data.drop([\"grade\"], axis=1, inplace=True)"
   ]
  },
  {
   "cell_type": "code",
   "execution_count": null,
   "metadata": {},
   "outputs": [],
   "source": [
    "data[\"bathrooms\"] = data[\"bathrooms\"].apply(lambda x: int(x))"
   ]
  },
  {
   "cell_type": "markdown",
   "metadata": {},
   "source": [
    "Float değerinde bathrooms olamayacağı için yuvarlama işlemi uyguluyoruz"
   ]
  },
  {
   "cell_type": "code",
   "execution_count": null,
   "metadata": {},
   "outputs": [],
   "source": [
    "# total rooms\n",
    "data[\"total_rooms\"] = data[\"bathrooms\"] + data[\"bedrooms\"]"
   ]
  },
  {
   "cell_type": "markdown",
   "metadata": {},
   "source": [
    "\"total_rooms\" gibi yeni bir özellik türetmek, modelin performansını artırabilir ve veri setindeki ilişkileri daha iyi yakalayabilir. Bu tür yeni özellikler, modelin daha doğru tahminler yapmasına ve daha anlamlı sonuçlar üretmesine yardımcı olabilir. Bu yüzden oda sayılarını topladık."
   ]
  },
  {
   "cell_type": "code",
   "execution_count": null,
   "metadata": {},
   "outputs": [],
   "source": [
    "outliers_columns = [\"price\", \"sqft_living\", \"sqft_above\", \"sqft_living15\", \"total_rooms\"]\n",
    "outliers_data = data[outliers_columns]\n",
    "\n",
    "Q1 = outliers_data.quantile(0.25)\n",
    "Q3 = outliers_data.quantile(0.75)\n",
    "IQR = Q3 - Q1\n",
    "\n",
    "outliers = (outliers_data < (Q1 - 1.5 * IQR)) | (outliers_data > (Q3 + 1.5 * IQR))\n",
    "\n",
    "# Aykırı değerlerin çıkarılması\n",
    "data_cleaned = data[~outliers.any(axis=1)]\n",
    "data_cleaned"
   ]
  },
  {
   "cell_type": "code",
   "execution_count": null,
   "metadata": {},
   "outputs": [],
   "source": [
    "import seaborn as sns\n",
    "\n",
    "heat_data = data_cleaned.corr()\n",
    "price_corr = heat_data[['price']].drop(['price'])  # Sadece 'price' sütununu al ve 'price' sütununu çıkar\n",
    "\n",
    "plt.figure(figsize=(12, 8))  # Grafik boyutunu ayarlama\n",
    "sns.heatmap(price_corr, cmap='YlGnBu', annot=True, fmt=\".2f\", linewidths=.5)\n",
    "\n",
    "plt.title('Price Sütununun Diğer Özelliklerle Korelasyonu')\n",
    "plt.xlabel('Özellikler')\n",
    "plt.ylabel('Korelasyon')\n",
    "plt.show()"
   ]
  },
  {
   "cell_type": "markdown",
   "metadata": {},
   "source": [
    "# Model"
   ]
  },
  {
   "cell_type": "code",
   "execution_count": null,
   "metadata": {},
   "outputs": [],
   "source": [
    "from sklearn.metrics import mean_absolute_error, mean_squared_error, mean_absolute_percentage_error, r2_score\n",
    "\n",
    "def error_calculator(test, pred):\n",
    "  # MAE\n",
    "  mae = mean_absolute_error(test, pred)\n",
    "  # MSE\n",
    "  mse = mean_squared_error(test, pred, squared=False)\n",
    "  # RMSE\n",
    "  rmse = np.sqrt(mse)\n",
    "  # MAPE\n",
    "  mape = mean_absolute_percentage_error(test, pred) * 100\n",
    "  # R2\n",
    "  r2 = r2_score(test, pred)\n",
    "\n",
    "  return f\"{mae:.2f}\", f\"{mse:.2f}\", f\"{rmse:.2f}\", mape, r2"
   ]
  },
  {
   "cell_type": "code",
   "execution_count": null,
   "metadata": {},
   "outputs": [],
   "source": [
    "def pred_plot(test, pred, model = \"\"):\n",
    "  # Figure ve Subplot ayarları\n",
    "  plt.figure(figsize=(14, 8))\n",
    "  # İkinci Subplot (Scatter Plot)\n",
    "  plt.subplot(2, 1, 2)\n",
    "  plt.scatter(range(len(test)), test, color='blue', label='Gerçek Değerler', alpha=1)\n",
    "  plt.scatter(range(len(pred)), pred, color='red', label='Tahmin Değerleri', alpha=0.3, marker=\"x\")\n",
    "  plt.title(f'({model}) Gerçek ve Tahmin Değerleri')\n",
    "  plt.xlabel('Fiyat')\n",
    "  plt.ylabel('Değer')\n",
    "  plt.legend()\n",
    "  plt.grid(True)\n",
    "\n",
    "  # Grafiği göster\n",
    "  plt.tight_layout()\n",
    "  plt.show()"
   ]
  },
  {
   "cell_type": "code",
   "execution_count": null,
   "metadata": {},
   "outputs": [],
   "source": [
    "# Özellikler (X) ve hedef değişkeni (y) tanımla\n",
    "X = data_cleaned.drop(['price'], axis=1)\n",
    "y = data_cleaned['price']"
   ]
  },
  {
   "cell_type": "markdown",
   "metadata": {},
   "source": [
    "Tahmin etmek istediğimiz değer price (fiyat) olduğu için data dan price sütunu çıkarıp X değişkenine atıyoruz.\n",
    "Y değişkenine yani hedef değişkenimize price sütununun değerlerini atıyoruz."
   ]
  },
  {
   "cell_type": "code",
   "execution_count": null,
   "metadata": {},
   "outputs": [],
   "source": [
    "from sklearn.model_selection import train_test_split\n",
    "\n",
    "# Eğitim ve test verisi olarak ayır\n",
    "X_train, X_test, y_train, y_test = train_test_split(X, y, test_size=0.3, random_state=0)"
   ]
  },
  {
   "cell_type": "markdown",
   "metadata": {},
   "source": [
    "Verilerimizi %70 eğitim ve %30 test olarak 2 ye ayırıyoruz. "
   ]
  },
  {
   "cell_type": "markdown",
   "metadata": {},
   "source": [
    "### Basit Model"
   ]
  },
  {
   "cell_type": "code",
   "execution_count": null,
   "metadata": {},
   "outputs": [],
   "source": [
    "# Ortalama fiyat tahmin modeli\n",
    "mean_model = np.full_like(y_test, y_test.mean(), dtype=np.float64)\n",
    "# Medyan fiyat tahmin modeli\n",
    "median_model = np.full_like(y_test, y_test.median(), dtype=np.float64)\n",
    "\n",
    "median_mae, median_mse, median_rmse, median_mape, median_r2 = error_calculator(y_test, median_model)\n",
    "print(f\"Median Model mse: {median_mse}\")\n",
    "print(f\"Median Model RMSE: {median_rmse}\")\n",
    "print(f\"Median Model mape: {round(median_mape)} %\")\n",
    "print(f\"Median Model r2: {median_r2}\")\n",
    "print(\"-\" * 25)\n",
    "mean_mae, mean_mse, mean_rmse, mean_mape, mean_r2 = error_calculator(y_test, mean_model)\n",
    "print(f\"Mean Model mse: {mean_mse}\")\n",
    "print(f\"Mean Model RMSE: {mean_rmse}\")\n",
    "print(f\"Mean Model mape: {round(mean_mape)} %\")\n",
    "print(f\"Mean Model r2: {mean_r2}\")"
   ]
  },
  {
   "cell_type": "code",
   "execution_count": null,
   "metadata": {},
   "outputs": [],
   "source": [
    "pred_plot(y_test, median_model, \"Median Model\")\n",
    "pred_plot(y_test, mean_model, \"Mean Model\")"
   ]
  },
  {
   "cell_type": "markdown",
   "metadata": {},
   "source": [
    "### Linear Regression"
   ]
  },
  {
   "cell_type": "code",
   "execution_count": null,
   "metadata": {},
   "outputs": [],
   "source": [
    "from sklearn.linear_model import LinearRegression\n",
    "\n",
    "# Linear Regression modeli eğit\n",
    "lr_model = LinearRegression()\n",
    "lr_model.fit(X_train, y_train)"
   ]
  },
  {
   "cell_type": "code",
   "execution_count": null,
   "metadata": {},
   "outputs": [],
   "source": [
    "y_lr_pred = lr_model.predict(X_test)"
   ]
  },
  {
   "cell_type": "code",
   "execution_count": null,
   "metadata": {},
   "outputs": [],
   "source": [
    "mae, mse, rmse, mape, r2 = error_calculator(y_test, y_lr_pred)\n",
    "\n",
    "print(f\"Linear Regression mse: {mse}\")\n",
    "print(f\"Linear Regression RMSE: {rmse}\")\n",
    "print(f\"Linear Regression mape: {round(mape)} %\")\n",
    "print(f\"Linear Regression r2: {r2}\")"
   ]
  },
  {
   "cell_type": "code",
   "execution_count": null,
   "metadata": {},
   "outputs": [],
   "source": [
    "pred_plot(y_test, y_lr_pred, \"Linear Regression\")"
   ]
  },
  {
   "cell_type": "markdown",
   "metadata": {},
   "source": [
    "### Random Forest"
   ]
  },
  {
   "cell_type": "code",
   "execution_count": null,
   "metadata": {},
   "outputs": [],
   "source": [
    "from sklearn.ensemble import RandomForestRegressor\n",
    "\n",
    "# Random Forest Regressor modeli eğit\n",
    "rf_model = RandomForestRegressor(n_estimators=100, random_state=42)\n",
    "rf_model.fit(X_train, y_train)"
   ]
  },
  {
   "cell_type": "code",
   "execution_count": null,
   "metadata": {},
   "outputs": [],
   "source": [
    "y_rf_pred = rf_model.predict(X_test)"
   ]
  },
  {
   "cell_type": "code",
   "execution_count": null,
   "metadata": {},
   "outputs": [],
   "source": [
    "mae, mse, rmse, mape, r2= error_calculator(y_test, y_rf_pred)\n",
    "\n",
    "print(f\"Random Forest mse: {mse}\")\n",
    "print(f\"Random Forest RMSE: {rmse}\")\n",
    "print(f\"Random Forest mape: {round(mape)} %\")\n",
    "print(f\"Random Forest r2: {r2}\")"
   ]
  },
  {
   "cell_type": "code",
   "execution_count": null,
   "metadata": {},
   "outputs": [],
   "source": [
    "pred_plot(y_test, y_rf_pred, \"Random Forest\")"
   ]
  },
  {
   "cell_type": "markdown",
   "metadata": {},
   "source": [
    "### Lightgbm"
   ]
  },
  {
   "cell_type": "code",
   "execution_count": null,
   "metadata": {},
   "outputs": [],
   "source": [
    "import lightgbm as lgb\n",
    "\n",
    "lgb_model = lgb.LGBMRegressor()\n",
    "lgb_model.fit(X_train, y_train)\n",
    "y_lightgbm_pred = lgb_model.predict(X_test)"
   ]
  },
  {
   "cell_type": "code",
   "execution_count": null,
   "metadata": {},
   "outputs": [],
   "source": [
    "mae, mse, rmse, mape, r2 = error_calculator(y_test, y_lightgbm_pred)\n",
    "\n",
    "print(f\"lightgbm mse: {mse}\")\n",
    "print(f\"lightgbm RMSE: {rmse}\")\n",
    "print(f\"lightgbm mape: {round(mape)} %\")\n",
    "print(f\"lightgbm r2: {r2}\")"
   ]
  },
  {
   "cell_type": "code",
   "execution_count": null,
   "metadata": {},
   "outputs": [],
   "source": [
    "pred_plot(y_test, y_lightgbm_pred, \"Lightgbm\")"
   ]
  },
  {
   "cell_type": "markdown",
   "metadata": {},
   "source": [
    "### Gradient Boosting Regressor"
   ]
  },
  {
   "cell_type": "code",
   "execution_count": null,
   "metadata": {},
   "outputs": [],
   "source": [
    "%%time\n",
    "from sklearn.model_selection import RandomizedSearchCV\n",
    "from sklearn.ensemble import GradientBoostingRegressor\n",
    "\n",
    "# Gradient Boosting Regressor\n",
    "gbr_model = GradientBoostingRegressor()\n",
    "param_distributions = {\n",
    "    'n_estimators': [100, 200],\n",
    "    'learning_rate': [0.01, 0.1],\n",
    "    'max_depth': [3, 4],\n",
    "    'min_samples_split': [2, 5],\n",
    "    'min_samples_leaf': [1, 2]\n",
    "}\n",
    "\n",
    "random_search = RandomizedSearchCV(estimator=gbr_model, param_distributions=param_distributions, n_iter=10, cv=5, n_jobs=-1, verbose=2, random_state=42)\n",
    "random_search.fit(X_train, y_train)\n",
    "\n",
    "best_gbr = random_search.best_estimator_\n",
    "gbr_y_pred = best_gbr.predict(X_test)\n",
    "\n",
    "\n",
    "mae, mse, xgb_rmse, xgb_mape, _ = error_calculator(y_test, gbr_y_pred)\n",
    "\n",
    "print(f\"Gradient Boosting Regression RMSE: {xgb_rmse}\")\n",
    "print(f\"Gradient Boosting Regression mape: {round(xgb_mape)} %\")\n",
    "print(f'En İyi Hiperparametreler: {random_search.best_params_}')\n",
    "print(f'En İyi Skor: {random_search.best_score_}')"
   ]
  },
  {
   "cell_type": "markdown",
   "metadata": {},
   "source": [
    "### XGBoost Regressor"
   ]
  },
  {
   "cell_type": "code",
   "execution_count": null,
   "metadata": {},
   "outputs": [],
   "source": [
    "import xgboost as xgb\n",
    "# XGBoost Regressor\n",
    "xgb_model = xgb.XGBRegressor(objective='reg:squarederror')\n",
    "xgb_model.fit(X_train, y_train)\n",
    "xgb_y_pred = xgb_model.predict(X_test)\n",
    "\n",
    "mae, mse, xgb_rmse, xgb_mape, _ = error_calculator(y_test, xgb_y_pred)"
   ]
  },
  {
   "cell_type": "markdown",
   "metadata": {},
   "source": [
    "# Modelleri Karşılaştırma"
   ]
  },
  {
   "cell_type": "code",
   "execution_count": null,
   "metadata": {},
   "outputs": [],
   "source": [
    "# Ortalama model hataları\n",
    "_, _, rmse_mean, mape_mean, r2_mean = error_calculator(y_test, mean_model)\n",
    "\n",
    "# Medyan model hataları\n",
    "_, _, rmse_median, mape_median, r2_median = error_calculator(y_test, median_model)\n",
    "\n",
    "# Doğrusal regresyon hataları\n",
    "_, _, rmse_linear, mape_linear, r2_linear = error_calculator(y_test, y_lr_pred)\n",
    "\n",
    "# Decision Tree hataları\n",
    "_, _, rmse_tree, mape_tree, r2_tree = error_calculator(y_test, y_rf_pred)\n",
    "\n",
    "# Lightgbm hataları\n",
    "_, _, rmse_lightgbm, mape_lightgbm, r2_lightgbm = error_calculator(y_test, y_lightgbm_pred)\n",
    "\n",
    "# Gradient Boosting Regressor hataları\n",
    "_, _, rmse_gbr, mape_gbr, r2_gbr = error_calculator(y_test, gbr_y_pred)\n",
    "\n",
    "# XGBRegressor hataları\n",
    "_, _, rmse_xgb, mape_xgb, r2_xgb = error_calculator(y_test, xgb_y_pred)"
   ]
  },
  {
   "cell_type": "code",
   "execution_count": null,
   "metadata": {},
   "outputs": [],
   "source": [
    "rmse_values = pd.DataFrame([{\n",
    "    \"rmse\": rmse_mean,\n",
    "    \"r2\": r2_mean,\n",
    "    \"model\": \"Mean Model\"\n",
    "}, {\n",
    "    \"rmse\": rmse_median,\n",
    "    \"r2\": r2_median,\n",
    "    \"model\": \"Median Model\"\n",
    "}, {\n",
    "    \"rmse\": rmse_linear ,\n",
    "    \"r2\": r2_linear,\n",
    "    \"model\": \"Linear Model\"\n",
    "}, {\n",
    "    \"rmse\": rmse_tree,\n",
    "    \"r2\": r2_tree,\n",
    "    \"model\": \"Decision Tree Model\"\n",
    "}, {\n",
    "    \"rmse\": rmse_lightgbm,\n",
    "    \"r2\": r2_lightgbm,\n",
    "    \"model\": \"Lightgbm Model\"\n",
    "}, {\n",
    "    \"rmse\": rmse_gbr,\n",
    "    \"r2\": r2_gbr,\n",
    "    \"model\": \"Gradient Boosting Regressor Model\"\n",
    "}, {\n",
    "    \"rmse\": rmse_xgb,\n",
    "    \"r2\": r2_xgb,\n",
    "    \"model\": \"XGBRegressor Model\"\n",
    "}])\n",
    "\n",
    "rmse_values = rmse_values.sort_values(by=\"rmse\").reset_index().drop([\"index\"], axis=1)"
   ]
  },
  {
   "cell_type": "code",
   "execution_count": null,
   "metadata": {},
   "outputs": [],
   "source": [
    "# Grafik oluşturma\n",
    "fig, ax1 = plt.subplots(figsize=(17, 8))\n",
    "\n",
    "# RMSE için çubuk grafiği\n",
    "ax1.set_xlabel('Models')\n",
    "ax1.set_ylabel('RMSE', color='tab:blue')\n",
    "bars = ax1.bar(rmse_values[\"model\"], rmse_values[\"rmse\"], color='tab:red', alpha=0.6, label='RMSE')\n",
    "ax1.tick_params(axis='y', labelcolor='tab:red')\n",
    "\n",
    "for i in range(len(bars)):\n",
    "    bar = bars[i]\n",
    "    yval = bar.get_height()\n",
    "    ax1.text(bar.get_x() + bar.get_width()/2, yval, str(round(rmse_values[\"r2\"][i] * 100, ndigits=2)) + \" %\", va='bottom', ha='center', color='green')\n",
    "\n",
    "\n",
    "# Başlık ve gösterge ekleme\n",
    "fig.suptitle('Model Performans Karşılaştırması')\n",
    "fig.tight_layout()\n",
    "plt.show()"
   ]
  },
  {
   "cell_type": "markdown",
   "metadata": {},
   "source": [
    "Veri setimizi çoğalttığımız zaman XGBRegressor Model ve Gradient Boosting Regressor modellerinin büyük veri setlerinde daha iyi çalıştığını gözlemledik."
   ]
  }
 ],
 "metadata": {
  "kernelspec": {
   "display_name": "base",
   "language": "python",
   "name": "python3"
  },
  "language_info": {
   "codemirror_mode": {
    "name": "ipython",
    "version": 3
   },
   "file_extension": ".py",
   "mimetype": "text/x-python",
   "name": "python",
   "nbconvert_exporter": "python",
   "pygments_lexer": "ipython3",
   "version": "3.11.7"
  }
 },
 "nbformat": 4,
 "nbformat_minor": 2
}
